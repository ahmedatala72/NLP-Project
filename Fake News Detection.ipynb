{
 "cells": [
  {
   "cell_type": "code",
   "execution_count": 1,
   "id": "d80b9540",
   "metadata": {},
   "outputs": [],
   "source": [
    "import pandas as pd\n",
    "import numpy as np"
   ]
  },
  {
   "cell_type": "code",
   "execution_count": 2,
   "id": "a19f708b",
   "metadata": {},
   "outputs": [
    {
     "name": "stdout",
     "output_type": "stream",
     "text": [
      "                                               title  \\\n",
      "0   Donald Trump Sends Out Embarrassing New Year’...   \n",
      "1   Drunk Bragging Trump Staffer Started Russian ...   \n",
      "2   Sheriff David Clarke Becomes An Internet Joke...   \n",
      "3   Trump Is So Obsessed He Even Has Obama’s Name...   \n",
      "4   Pope Francis Just Called Out Donald Trump Dur...   \n",
      "\n",
      "                                                text subject  \\\n",
      "0  Donald Trump just couldn t wish all Americans ...    News   \n",
      "1  House Intelligence Committee Chairman Devin Nu...    News   \n",
      "2  On Friday, it was revealed that former Milwauk...    News   \n",
      "3  On Christmas day, Donald Trump announced that ...    News   \n",
      "4  Pope Francis used his annual Christmas Day mes...    News   \n",
      "\n",
      "                date  \n",
      "0  December 31, 2017  \n",
      "1  December 31, 2017  \n",
      "2  December 30, 2017  \n",
      "3  December 29, 2017  \n",
      "4  December 25, 2017  \n"
     ]
    }
   ],
   "source": [
    "true = pd.read_csv(\"True.csv\",nrows=4000)\n",
    "fake = pd.read_csv(\"Fake.csv\",nrows=4000)\n",
    "print(fake.head())"
   ]
  },
  {
   "cell_type": "code",
   "execution_count": 3,
   "id": "c4121aac",
   "metadata": {},
   "outputs": [
    {
     "name": "stdout",
     "output_type": "stream",
     "text": [
      "                                               title  \\\n",
      "0  As U.S. budget fight looms, Republicans flip t...   \n",
      "1  U.S. military to accept transgender recruits o...   \n",
      "2  Senior U.S. Republican senator: 'Let Mr. Muell...   \n",
      "3  FBI Russia probe helped by Australian diplomat...   \n",
      "4  Trump wants Postal Service to charge 'much mor...   \n",
      "\n",
      "                                                text       subject  \\\n",
      "0  WASHINGTON (Reuters) - The head of a conservat...  politicsNews   \n",
      "1  WASHINGTON (Reuters) - Transgender people will...  politicsNews   \n",
      "2  WASHINGTON (Reuters) - The special counsel inv...  politicsNews   \n",
      "3  WASHINGTON (Reuters) - Trump campaign adviser ...  politicsNews   \n",
      "4  SEATTLE/WASHINGTON (Reuters) - President Donal...  politicsNews   \n",
      "\n",
      "                 date  class  \n",
      "0  December 31, 2017       1  \n",
      "1  December 29, 2017       1  \n",
      "2  December 31, 2017       1  \n",
      "3  December 30, 2017       1  \n",
      "4  December 29, 2017       1  \n"
     ]
    }
   ],
   "source": [
    "true['class'] = 1\n",
    "fake['calss'] = 0\n",
    "print(true.head())"
   ]
  },
  {
   "cell_type": "code",
   "execution_count": 4,
   "id": "4838765b",
   "metadata": {},
   "outputs": [
    {
     "name": "stdout",
     "output_type": "stream",
     "text": [
      "                                                  title  \\\n",
      "0     As U.S. budget fight looms, Republicans flip t...   \n",
      "1     U.S. military to accept transgender recruits o...   \n",
      "2     Senior U.S. Republican senator: 'Let Mr. Muell...   \n",
      "3     FBI Russia probe helped by Australian diplomat...   \n",
      "4     Trump wants Postal Service to charge 'much mor...   \n",
      "...                                                 ...   \n",
      "7995   Robert Reich’s Conversation With A Fmr. GOP R...   \n",
      "7996   Ohio Democratic Headquarters Vandalized With ...   \n",
      "7997   ‘Christians’ Create Grisly Haunted House Clai...   \n",
      "7998   Harry Reid TORCHES FBI Director Comey: ‘I Bel...   \n",
      "7999   WATCH: Mark Cuban Informs Fox Host That Media...   \n",
      "\n",
      "                                                   text       subject  \\\n",
      "0     WASHINGTON (Reuters) - The head of a conservat...  politicsNews   \n",
      "1     WASHINGTON (Reuters) - Transgender people will...  politicsNews   \n",
      "2     WASHINGTON (Reuters) - The special counsel inv...  politicsNews   \n",
      "3     WASHINGTON (Reuters) - Trump campaign adviser ...  politicsNews   \n",
      "4     SEATTLE/WASHINGTON (Reuters) - President Donal...  politicsNews   \n",
      "...                                                 ...           ...   \n",
      "7995  Robert Reich is one of the most respected voic...          News   \n",
      "7996  This has been one nasty election year. First, ...          News   \n",
      "7997  Chicago doesn t tend to be one of the cities o...          News   \n",
      "7998  Senate Minority Leader Harry Reid (D-NV) wrote...          News   \n",
      "7999  When a Fox News host tried to whine about the ...          News   \n",
      "\n",
      "                    date  class  calss  \n",
      "0     December 31, 2017     1.0    NaN  \n",
      "1     December 29, 2017     1.0    NaN  \n",
      "2     December 31, 2017     1.0    NaN  \n",
      "3     December 30, 2017     1.0    NaN  \n",
      "4     December 29, 2017     1.0    NaN  \n",
      "...                  ...    ...    ...  \n",
      "7995    October 31, 2016    NaN    0.0  \n",
      "7996    October 31, 2016    NaN    0.0  \n",
      "7997    October 30, 2016    NaN    0.0  \n",
      "7998    October 30, 2016    NaN    0.0  \n",
      "7999    October 30, 2016    NaN    0.0  \n",
      "\n",
      "[8000 rows x 6 columns]\n"
     ]
    }
   ],
   "source": [
    "df = pd.concat([true.head(4000), fake.head(4000)], ignore_index = True)\n",
    "print (df)"
   ]
  },
  {
   "cell_type": "code",
   "execution_count": 5,
   "id": "2807b5ca",
   "metadata": {},
   "outputs": [
    {
     "name": "stdout",
     "output_type": "stream",
     "text": [
      "                                                  title  \\\n",
      "0     Asian nations pulled into China's orbit as Tru...   \n",
      "1     Trump starts paying his own legal bills on Rus...   \n",
      "2     Talk of Trump pullout alarms backers of Paris ...   \n",
      "3      WATCH: Sean Spicer In December STRONGLY Oppos...   \n",
      "4     Top U.S. Senate Democrat holds out hope for Ob...   \n",
      "...                                                 ...   \n",
      "7995   Desperate Staff Sent Melania To Stop 2-Hour T...   \n",
      "7996   Florida LGBT rights push reflects changing times   \n",
      "7997  New Jersey mayor resigns after admitting corru...   \n",
      "7998  U.S. Congress to give Puerto Rico short-term M...   \n",
      "7999   Twitter Just Tore Trump To Shreds After His H...   \n",
      "\n",
      "                                                   text       subject  \\\n",
      "0     MANILA (Reuters) - Across Asia, more and more ...  politicsNews   \n",
      "1     WASHINGTON (Reuters) - U.S. President Donald T...  politicsNews   \n",
      "2     LONDON (Reuters) - Reports that Donald Trump i...  politicsNews   \n",
      "3     In a shocking move, White House press secretar...          News   \n",
      "4     WASHINGTON (Reuters) - U.S. Senate Democratic ...  politicsNews   \n",
      "...                                                 ...           ...   \n",
      "7995  If you ever needed evidence of Donald Trump s ...          News   \n",
      "7996  TALLAHASSEE, Fla. (Reuters) - A Republican, a ...  politicsNews   \n",
      "7997  NEW YORK (Reuters) - The mayor of Paterson, Ne...  politicsNews   \n",
      "7998  (Reuters) - Ailing Puerto Rico would receive $...  politicsNews   \n",
      "7999  If you didn t know, Friday was Holocaust Remem...          News   \n",
      "\n",
      "                     date  class  calss  \n",
      "0            May 1, 2017     1.0    NaN  \n",
      "1      November 17, 2017     1.0    NaN  \n",
      "2           May 31, 2017     1.0    NaN  \n",
      "3       February 24, 2017    NaN    0.0  \n",
      "4       October 13, 2017     1.0    NaN  \n",
      "...                   ...    ...    ...  \n",
      "7995         July 7, 2017    NaN    0.0  \n",
      "7996         May 2, 2017     1.0    NaN  \n",
      "7997  September 25, 2017     1.0    NaN  \n",
      "7998         May 1, 2017     1.0    NaN  \n",
      "7999     January 27, 2017    NaN    0.0  \n",
      "\n",
      "[8000 rows x 6 columns]\n"
     ]
    }
   ],
   "source": [
    "df = df.sample(frac=1).reset_index(drop=True)\n",
    "print (df)"
   ]
  },
  {
   "cell_type": "code",
   "execution_count": 6,
   "id": "610e6408",
   "metadata": {},
   "outputs": [
    {
     "name": "stdout",
     "output_type": "stream",
     "text": [
      "                                                  title  \\\n",
      "0     Asian nations pulled into China's orbit as Tru...   \n",
      "1     Trump starts paying his own legal bills on Rus...   \n",
      "2     Talk of Trump pullout alarms backers of Paris ...   \n",
      "3      WATCH: Sean Spicer In December STRONGLY Oppos...   \n",
      "4     Top U.S. Senate Democrat holds out hope for Ob...   \n",
      "...                                                 ...   \n",
      "7995   Desperate Staff Sent Melania To Stop 2-Hour T...   \n",
      "7996   Florida LGBT rights push reflects changing times   \n",
      "7997  New Jersey mayor resigns after admitting corru...   \n",
      "7998  U.S. Congress to give Puerto Rico short-term M...   \n",
      "7999   Twitter Just Tore Trump To Shreds After His H...   \n",
      "\n",
      "                                                   text       subject  \\\n",
      "0     MANILA (Reuters) - Across Asia, more and more ...  politicsNews   \n",
      "1     WASHINGTON (Reuters) - U.S. President Donald T...  politicsNews   \n",
      "2     LONDON (Reuters) - Reports that Donald Trump i...  politicsNews   \n",
      "3     In a shocking move, White House press secretar...          News   \n",
      "4     WASHINGTON (Reuters) - U.S. Senate Democratic ...  politicsNews   \n",
      "...                                                 ...           ...   \n",
      "7995  If you ever needed evidence of Donald Trump s ...          News   \n",
      "7996  TALLAHASSEE, Fla. (Reuters) - A Republican, a ...  politicsNews   \n",
      "7997  NEW YORK (Reuters) - The mayor of Paterson, Ne...  politicsNews   \n",
      "7998  (Reuters) - Ailing Puerto Rico would receive $...  politicsNews   \n",
      "7999  If you didn t know, Friday was Holocaust Remem...          News   \n",
      "\n",
      "                     date  class  calss  \\\n",
      "0            May 1, 2017     1.0    NaN   \n",
      "1      November 17, 2017     1.0    NaN   \n",
      "2           May 31, 2017     1.0    NaN   \n",
      "3       February 24, 2017    NaN    0.0   \n",
      "4       October 13, 2017     1.0    NaN   \n",
      "...                   ...    ...    ...   \n",
      "7995         July 7, 2017    NaN    0.0   \n",
      "7996         May 2, 2017     1.0    NaN   \n",
      "7997  September 25, 2017     1.0    NaN   \n",
      "7998         May 1, 2017     1.0    NaN   \n",
      "7999     January 27, 2017    NaN    0.0   \n",
      "\n",
      "                                                   News  \n",
      "0     Asian nations pulled into China's orbit as Tru...  \n",
      "1     Trump starts paying his own legal bills on Rus...  \n",
      "2     Talk of Trump pullout alarms backers of Paris ...  \n",
      "3      WATCH: Sean Spicer In December STRONGLY Oppos...  \n",
      "4     Top U.S. Senate Democrat holds out hope for Ob...  \n",
      "...                                                 ...  \n",
      "7995   Desperate Staff Sent Melania To Stop 2-Hour T...  \n",
      "7996  Florida LGBT rights push reflects changing tim...  \n",
      "7997  New Jersey mayor resigns after admitting corru...  \n",
      "7998  U.S. Congress to give Puerto Rico short-term M...  \n",
      "7999   Twitter Just Tore Trump To Shreds After His H...  \n",
      "\n",
      "[8000 rows x 7 columns]\n"
     ]
    }
   ],
   "source": [
    "df['News'] = df['title'] + \" \" + df['text'] + \" \" + df['subject']\n",
    "print(df)"
   ]
  },
  {
   "cell_type": "code",
   "execution_count": 7,
   "id": "8f460f02",
   "metadata": {},
   "outputs": [],
   "source": [
    "import re \n",
    "import nltk\n",
    "from nltk.corpus import stopwords\n",
    "from nltk.stem  import WordNetLemmatizer\n",
    "tl = WordNetLemmatizer\n",
    "corpus = []\n",
    "for i in range (0,8000):\n",
    "    line = re.sub('[^a-zA-Z]',\" \", df['News'][i])\n",
    "    line = line.lower()\n",
    "    line = line.split()\n",
    "    line = [tl.lemmatize(word)for word in line if not set(stopwords.words('english'))]\n",
    "    line = \" \".join(line)\n",
    "    corpus.append(line)\n",
    "    "
   ]
  },
  {
   "cell_type": "code",
   "execution_count": 8,
   "id": "cc4357a6",
   "metadata": {},
   "outputs": [
    {
     "ename": "ValueError",
     "evalue": "empty vocabulary; perhaps the documents only contain stop words",
     "output_type": "error",
     "traceback": [
      "\u001b[1;31m---------------------------------------------------------------------------\u001b[0m",
      "\u001b[1;31mValueError\u001b[0m                                Traceback (most recent call last)",
      "Input \u001b[1;32mIn [8]\u001b[0m, in \u001b[0;36m<cell line: 3>\u001b[1;34m()\u001b[0m\n\u001b[0;32m      1\u001b[0m \u001b[38;5;28;01mfrom\u001b[39;00m \u001b[38;5;21;01msklearn\u001b[39;00m\u001b[38;5;21;01m.\u001b[39;00m\u001b[38;5;21;01mfeature_extraction\u001b[39;00m\u001b[38;5;21;01m.\u001b[39;00m\u001b[38;5;21;01mtext\u001b[39;00m \u001b[38;5;28;01mimport\u001b[39;00m CountVectorizer\n\u001b[0;32m      2\u001b[0m cv \u001b[38;5;241m=\u001b[39m CountVectorizer(max_features\u001b[38;5;241m=\u001b[39m\u001b[38;5;241m8000\u001b[39m,ngram_range\u001b[38;5;241m=\u001b[39m(\u001b[38;5;241m1\u001b[39m,\u001b[38;5;241m3\u001b[39m))\n\u001b[1;32m----> 3\u001b[0m X \u001b[38;5;241m=\u001b[39m \u001b[43mcv\u001b[49m\u001b[38;5;241;43m.\u001b[39;49m\u001b[43mfit_transform\u001b[49m\u001b[43m(\u001b[49m\u001b[43mcorpus\u001b[49m\u001b[43m)\u001b[49m\u001b[38;5;241m.\u001b[39mtoarray()\n\u001b[0;32m      4\u001b[0m y \u001b[38;5;241m=\u001b[39m df[\u001b[38;5;124m'\u001b[39m\u001b[38;5;124mclass\u001b[39m\u001b[38;5;124m'\u001b[39m]\u001b[38;5;241m.\u001b[39mvalues\n",
      "File \u001b[1;32m~\\anaconda3\\lib\\site-packages\\sklearn\\feature_extraction\\text.py:1338\u001b[0m, in \u001b[0;36mCountVectorizer.fit_transform\u001b[1;34m(self, raw_documents, y)\u001b[0m\n\u001b[0;32m   1330\u001b[0m             warnings\u001b[38;5;241m.\u001b[39mwarn(\n\u001b[0;32m   1331\u001b[0m                 \u001b[38;5;124m\"\u001b[39m\u001b[38;5;124mUpper case characters found in\u001b[39m\u001b[38;5;124m\"\u001b[39m\n\u001b[0;32m   1332\u001b[0m                 \u001b[38;5;124m\"\u001b[39m\u001b[38;5;124m vocabulary while \u001b[39m\u001b[38;5;124m'\u001b[39m\u001b[38;5;124mlowercase\u001b[39m\u001b[38;5;124m'\u001b[39m\u001b[38;5;124m\"\u001b[39m\n\u001b[0;32m   1333\u001b[0m                 \u001b[38;5;124m\"\u001b[39m\u001b[38;5;124m is True. These entries will not\u001b[39m\u001b[38;5;124m\"\u001b[39m\n\u001b[0;32m   1334\u001b[0m                 \u001b[38;5;124m\"\u001b[39m\u001b[38;5;124m be matched with any documents\u001b[39m\u001b[38;5;124m\"\u001b[39m\n\u001b[0;32m   1335\u001b[0m             )\n\u001b[0;32m   1336\u001b[0m             \u001b[38;5;28;01mbreak\u001b[39;00m\n\u001b[1;32m-> 1338\u001b[0m vocabulary, X \u001b[38;5;241m=\u001b[39m \u001b[38;5;28;43mself\u001b[39;49m\u001b[38;5;241;43m.\u001b[39;49m\u001b[43m_count_vocab\u001b[49m\u001b[43m(\u001b[49m\u001b[43mraw_documents\u001b[49m\u001b[43m,\u001b[49m\u001b[43m \u001b[49m\u001b[38;5;28;43mself\u001b[39;49m\u001b[38;5;241;43m.\u001b[39;49m\u001b[43mfixed_vocabulary_\u001b[49m\u001b[43m)\u001b[49m\n\u001b[0;32m   1340\u001b[0m \u001b[38;5;28;01mif\u001b[39;00m \u001b[38;5;28mself\u001b[39m\u001b[38;5;241m.\u001b[39mbinary:\n\u001b[0;32m   1341\u001b[0m     X\u001b[38;5;241m.\u001b[39mdata\u001b[38;5;241m.\u001b[39mfill(\u001b[38;5;241m1\u001b[39m)\n",
      "File \u001b[1;32m~\\anaconda3\\lib\\site-packages\\sklearn\\feature_extraction\\text.py:1228\u001b[0m, in \u001b[0;36mCountVectorizer._count_vocab\u001b[1;34m(self, raw_documents, fixed_vocab)\u001b[0m\n\u001b[0;32m   1226\u001b[0m     vocabulary \u001b[38;5;241m=\u001b[39m \u001b[38;5;28mdict\u001b[39m(vocabulary)\n\u001b[0;32m   1227\u001b[0m     \u001b[38;5;28;01mif\u001b[39;00m \u001b[38;5;129;01mnot\u001b[39;00m vocabulary:\n\u001b[1;32m-> 1228\u001b[0m         \u001b[38;5;28;01mraise\u001b[39;00m \u001b[38;5;167;01mValueError\u001b[39;00m(\n\u001b[0;32m   1229\u001b[0m             \u001b[38;5;124m\"\u001b[39m\u001b[38;5;124mempty vocabulary; perhaps the documents only contain stop words\u001b[39m\u001b[38;5;124m\"\u001b[39m\n\u001b[0;32m   1230\u001b[0m         )\n\u001b[0;32m   1232\u001b[0m \u001b[38;5;28;01mif\u001b[39;00m indptr[\u001b[38;5;241m-\u001b[39m\u001b[38;5;241m1\u001b[39m] \u001b[38;5;241m>\u001b[39m np\u001b[38;5;241m.\u001b[39miinfo(np\u001b[38;5;241m.\u001b[39mint32)\u001b[38;5;241m.\u001b[39mmax:  \u001b[38;5;66;03m# = 2**31 - 1\u001b[39;00m\n\u001b[0;32m   1233\u001b[0m     \u001b[38;5;28;01mif\u001b[39;00m _IS_32BIT:\n",
      "\u001b[1;31mValueError\u001b[0m: empty vocabulary; perhaps the documents only contain stop words"
     ]
    }
   ],
   "source": [
    "from sklearn.feature_extraction.text import CountVectorizer\n",
    "cv = CountVectorizer()\n",
    "X = cv.fit_transform(corpus).toarray()\n",
    "y = df['class'].values"
   ]
  },
  {
   "cell_type": "code",
   "execution_count": null,
   "id": "5b29b850",
   "metadata": {},
   "outputs": [],
   "source": [
    "from sklearn.model_selection import train_test_split\n",
    "X_train, X_test, y_train, y_test = train_test_split(X,y,test_size = 0.2)\n",
    "from sklearn.naive_bayes import GaussianNB\n",
    "model=GaussianNB()\n",
    "final=model.fit(X_train,y_train)\n",
    "print(\"Testing score\",final.score(X_test,y_test))"
   ]
  },
  {
   "cell_type": "code",
   "execution_count": null,
   "id": "f0add9c0",
   "metadata": {},
   "outputs": [],
   "source": [
    "import seaborn as sb\n",
    "from sklearn.metrics import confusion_matrix\n",
    "from matplotlib import pyplot as plt\n",
    "svm_predicted=final.predict(X_test)\n",
    "svm_confuse=confusion_matrix(y_test, svm_predicted)\n",
    "df_cm=pd.DataFrame(svm_confuse)"
   ]
  },
  {
   "cell_type": "code",
   "execution_count": null,
   "id": "01ebfbd3",
   "metadata": {},
   "outputs": [],
   "source": [
    "plt.figure(figsize=(5.5,4))\n",
    "sb.heatmap(df_cm, annot=True, fmt='g')\n",
    "plt.title(\"Confusion Matrix Heatmap\")\n",
    "plt.xlabel(\"True Label”)\n",
    "plt.ylabel(\"Predicted Label\")\n",
    "plt.show()"
   ]
  },
  {
   "cell_type": "code",
   "execution_count": null,
   "id": "66dd39fd",
   "metadata": {},
   "outputs": [],
   "source": [
    "from sklearn.metrics import classification_report\n",
    "print(\"Classification Report\")\n",
    "print(classification_report(y_test, svm_predicted))"
   ]
  }
 ],
 "metadata": {
  "kernelspec": {
   "display_name": "Python 3 (ipykernel)",
   "language": "python",
   "name": "python3"
  },
  "language_info": {
   "codemirror_mode": {
    "name": "ipython",
    "version": 3
   },
   "file_extension": ".py",
   "mimetype": "text/x-python",
   "name": "python",
   "nbconvert_exporter": "python",
   "pygments_lexer": "ipython3",
   "version": "3.9.13"
  }
 },
 "nbformat": 4,
 "nbformat_minor": 5
}
